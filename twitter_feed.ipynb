{
  "nbformat": 4,
  "nbformat_minor": 0,
  "metadata": {
    "colab": {
      "name": "twitter_feed.ipynb",
      "provenance": [],
      "collapsed_sections": [
        "7hVbsjxqBb3j",
        "uQFRTftvBvkr"
      ],
      "authorship_tag": "ABX9TyN7G0v4EX2Ff3kIPenjV09/",
      "include_colab_link": true
    },
    "kernelspec": {
      "name": "python3",
      "display_name": "Python 3"
    },
    "language_info": {
      "name": "python"
    }
  },
  "cells": [
    {
      "cell_type": "markdown",
      "metadata": {
        "id": "view-in-github",
        "colab_type": "text"
      },
      "source": [
        "<a href=\"https://colab.research.google.com/github/solethu01/twitter/blob/main/twitter_feed.ipynb\" target=\"_parent\"><img src=\"https://colab.research.google.com/assets/colab-badge.svg\" alt=\"Open In Colab\"/></a>"
      ]
    },
    {
      "cell_type": "code",
      "metadata": {
        "id": "W4MrSLiAcTZx"
      },
      "source": [
        "import re"
      ],
      "execution_count": 1,
      "outputs": []
    },
    {
      "cell_type": "code",
      "metadata": {
        "colab": {
          "base_uri": "https://localhost:8080/"
        },
        "id": "KrwaZNTTbJsQ",
        "outputId": "27cdcaf5-7af4-40a7-df7b-1b187fe89e75"
      },
      "source": [
        "%ls"
      ],
      "execution_count": 2,
      "outputs": [
        {
          "output_type": "stream",
          "text": [
            "\u001b[0m\u001b[01;34msample_data\u001b[0m/\n"
          ],
          "name": "stdout"
        }
      ]
    },
    {
      "cell_type": "code",
      "metadata": {
        "id": "2Q8IkxqrbRJD"
      },
      "source": [
        ""
      ],
      "execution_count": 2,
      "outputs": []
    },
    {
      "cell_type": "markdown",
      "metadata": {
        "id": "WXGCl3WWAqc6"
      },
      "source": [
        "#Load Files"
      ]
    },
    {
      "cell_type": "code",
      "metadata": {
        "colab": {
          "resources": {
            "http://localhost:8080/nbextensions/google.colab/files.js": {
              "data": "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",
              "ok": true,
              "headers": [
                [
                  "content-type",
                  "application/javascript"
                ]
              ],
              "status": 200,
              "status_text": ""
            }
          },
          "base_uri": "https://localhost:8080/",
          "height": 107
        },
        "id": "zcTGOZy6a6lc",
        "outputId": "77622485-37ca-47c3-8c73-2327344bec04"
      },
      "source": [
        "# Load files into the work space\n",
        "from google.colab import files\n",
        "uploaded = files.upload()"
      ],
      "execution_count": 3,
      "outputs": [
        {
          "output_type": "display_data",
          "data": {
            "text/html": [
              "\n",
              "     <input type=\"file\" id=\"files-f6782483-7750-4944-828a-2f39391ee883\" name=\"files[]\" multiple disabled\n",
              "        style=\"border:none\" />\n",
              "     <output id=\"result-f6782483-7750-4944-828a-2f39391ee883\">\n",
              "      Upload widget is only available when the cell has been executed in the\n",
              "      current browser session. Please rerun this cell to enable.\n",
              "      </output>\n",
              "      <script src=\"/nbextensions/google.colab/files.js\"></script> "
            ],
            "text/plain": [
              "<IPython.core.display.HTML object>"
            ]
          },
          "metadata": {
            "tags": []
          }
        },
        {
          "output_type": "stream",
          "text": [
            "Saving tweet.txt to tweet.txt\n",
            "Saving user.txt to user.txt\n"
          ],
          "name": "stdout"
        }
      ]
    },
    {
      "cell_type": "markdown",
      "metadata": {
        "id": "slytC3L0Auq4"
      },
      "source": [
        "#Initialize files"
      ]
    },
    {
      "cell_type": "code",
      "metadata": {
        "id": "HnkVkwpFpL0y"
      },
      "source": [
        "#file names\n",
        "ftweets = 'tweet.txt'\n",
        "fusers = 'user.txt'"
      ],
      "execution_count": 4,
      "outputs": []
    },
    {
      "cell_type": "markdown",
      "metadata": {
        "id": "fdYdr3i2AzBW"
      },
      "source": [
        "#Define file readers"
      ]
    },
    {
      "cell_type": "code",
      "metadata": {
        "id": "valBS--aAc2B"
      },
      "source": [
        "def read_files(fname):\n",
        "  ''' Input a file with user information in the form shown below:\n",
        "      \"<name1> follows <name2>\" \n",
        "      \"<name1> follows <name2>, <name3>, <name10>\" \n",
        "      per line'''\n",
        "  with open(fname) as f:\n",
        "    fcontents = f.read()\n",
        "  if not re.match(\"\\w+ follows [\\w+, ]*\", fcontents):\n",
        "    raise ValueError(\"The read file in not in the correct format\")\n",
        "  if fcontents == None:\n",
        "    raise TypeError(\"The file contents is empty\")\n",
        "  return fcontents"
      ],
      "execution_count": 5,
      "outputs": []
    },
    {
      "cell_type": "code",
      "metadata": {
        "id": "Abf3np1gb08O"
      },
      "source": [
        "def read_tweet_lines(fname):\n",
        "  ''' Input a file path to a file with tweet information in the from show below: \n",
        "      \"user> message\" \n",
        "      per line'''\n",
        "  with open(fname) as f:\n",
        "    lines = f.readlines()\n",
        "  for line in lines:\n",
        "    if not re.match(\"\\w+> .*\", line):\n",
        "      raise ValueError(\"The read file in not in the correct format\")\n",
        "  return lines"
      ],
      "execution_count": 6,
      "outputs": []
    },
    {
      "cell_type": "code",
      "metadata": {
        "id": "w4ExrVFuRmSc"
      },
      "source": [
        "def read_user_lines(fname):\n",
        "  ''' Input a file with user information in the form shown below:\n",
        "      \"<name1> follows <name2>\" \n",
        "      \"<name1> follows <name2>, <name3>, <name10>\" \n",
        "      per line'''\n",
        "  with open(fname) as f:\n",
        "    lines = f.readlines()\n",
        "  for line in lines:\n",
        "    if not re.match(\"\\w+ follows [\\w+, ]*\", line):\n",
        "      raise ValueError(\"The read file in not in the correct format\")\n",
        "  return lines"
      ],
      "execution_count": 7,
      "outputs": []
    },
    {
      "cell_type": "markdown",
      "metadata": {
        "id": "tOqZZImhA_2i"
      },
      "source": [
        "#Initialize read files"
      ]
    },
    {
      "cell_type": "code",
      "metadata": {
        "id": "Hz_cu0qpAeRb"
      },
      "source": [
        "user_cont = read_files(fusers)"
      ],
      "execution_count": 8,
      "outputs": []
    },
    {
      "cell_type": "code",
      "metadata": {
        "id": "WbzT67JwcR3b"
      },
      "source": [
        "lns_users = read_user_lines(fusers)"
      ],
      "execution_count": 9,
      "outputs": []
    },
    {
      "cell_type": "code",
      "metadata": {
        "id": "fHYsfuKCg2Fg"
      },
      "source": [
        "lns_tweets = read_tweet_lines(ftweets)"
      ],
      "execution_count": 10,
      "outputs": []
    },
    {
      "cell_type": "markdown",
      "metadata": {
        "id": "7hVbsjxqBb3j"
      },
      "source": [
        "#Define data processing funtions"
      ]
    },
    {
      "cell_type": "code",
      "metadata": {
        "id": "uAj5o6xO956s"
      },
      "source": [
        "def all_users(read_contents):\n",
        "  ''' Input a string of given users and a list of person(s) they follow in the\n",
        "      form shown below:\n",
        "      \"<name1> follows <name2>\" \n",
        "      \"<name1> follows <name2>, <name3>, <name10>\" \n",
        "      per line'''\n",
        "  if read_contents == \"\":\n",
        "    raise ValueError(\"The input string is empty or not in the correct form\")\n",
        "  elif re.match(\"\\w+ follows [\\w+, ]*\", read_contents) == None:\n",
        "    raise ValueError(\"Input doesnt match the format '<name1> follows <name2>, ... , <name4>'\")\n",
        "\n",
        "  read_contents = read_contents.replace(\",\", \"\")\n",
        "  users = list(set(read_contents.split())) #assume all names are one word\n",
        "  users.remove('follows')\n",
        "  users = sorted(users)\n",
        "  return users"
      ],
      "execution_count": 11,
      "outputs": []
    },
    {
      "cell_type": "code",
      "metadata": {
        "id": "w9n2C2DHbsDb"
      },
      "source": [
        "def follows_dic(lines, ls_users):\n",
        "  ''' \n",
        "      funtion inputs the list of the lines in the user file and the list of all \n",
        "      the users in the for\n",
        "      ['Ward follows Alan\\n', 'Alan follows Martin\\n', 'Ward follows Martin, Alan\\n']\n",
        "      ['Alan', 'Martin', 'Ward']\n",
        "      respectively\n",
        "  '''\n",
        "  if type(ls_users) != list or type(lines) != list:\n",
        "    raise TypeError (\"The first or second or both inputs are not a list\")\n",
        "\n",
        "  dfollows = {}\n",
        "  for user in ls_users:\n",
        "    dfollows[user] = \"\"\n",
        "    for line in lines:\n",
        "      if not re.match(\"\\w+ follows [\\w+, ]*\\w+$\", line):\n",
        "        raise ValueError(\"The line doesnt follow the format '<name1> follows <name2>, ... , <name4>'\")\n",
        "      ls_line = line.strip().split(' follows ')\n",
        "      dfollows[ls_line[0]] = ls_line[1]\n",
        "  return dfollows"
      ],
      "execution_count": 12,
      "outputs": []
    },
    {
      "cell_type": "markdown",
      "metadata": {
        "id": "uQFRTftvBvkr"
      },
      "source": [
        "#Initialize processed data"
      ]
    },
    {
      "cell_type": "code",
      "metadata": {
        "id": "v5t_4vvjjAsH"
      },
      "source": [
        "ls_users = all_users(user_cont)"
      ],
      "execution_count": 13,
      "outputs": []
    },
    {
      "cell_type": "code",
      "metadata": {
        "id": "UtOtAXLJclPK"
      },
      "source": [
        "dfollows = follows_dic(lns_users, ls_users)"
      ],
      "execution_count": 14,
      "outputs": []
    },
    {
      "cell_type": "markdown",
      "metadata": {
        "id": "G0Y1eUMhB4C_"
      },
      "source": [
        "#Define desplay function"
      ]
    },
    {
      "cell_type": "code",
      "metadata": {
        "id": "Bc0-euVAug1c"
      },
      "source": [
        "def display_feed(lsusers, dfollows, lns_tweets):\n",
        "\n",
        "  for user in lsusers:\n",
        "    print(user)\n",
        "    for line in lns_tweets:\n",
        "      sp_line = line.strip().split(\"> \")\n",
        "      if user == sp_line[0]:\n",
        "        print('\\t@{}: {}'.format(sp_line[0], sp_line[1]))\n",
        "      elif sp_line[0] in dfollows[user]:\n",
        "        print('\\t@{}: {}'.format(sp_line[0], sp_line[1]))\n",
        "  return"
      ],
      "execution_count": 15,
      "outputs": []
    },
    {
      "cell_type": "code",
      "metadata": {
        "colab": {
          "base_uri": "https://localhost:8080/"
        },
        "id": "FdFPKZXz1SkN",
        "outputId": "43a5cb46-bb16-43e2-c2ad-f817ffb21155"
      },
      "source": [
        "display_feed(ls_users, dfollows, lns_tweets)\n"
      ],
      "execution_count": 16,
      "outputs": [
        {
          "output_type": "stream",
          "text": [
            "Alan\n",
            "\t@Alan: If you have a procedure with 10 parameters, you probably missed some.\n",
            "\t@Alan: Random numbers should not be generated with a method chosen at random.\n",
            "Martin\n",
            "Ward\n",
            "\t@Alan: If you have a procedure with 10 parameters, you probably missed some.\n",
            "\t@Ward: There are only two hard things in Computer Science: cache invalidation, naming things and off-by-1 errors.\n",
            "\t@Alan: Random numbers should not be generated with a method chosen at random.\n"
          ],
          "name": "stdout"
        }
      ]
    },
    {
      "cell_type": "code",
      "metadata": {
        "id": "kPVXNZQNo_JQ"
      },
      "source": [
        ""
      ],
      "execution_count": 16,
      "outputs": []
    },
    {
      "cell_type": "markdown",
      "metadata": {
        "id": "J9vhu3yqUxwk"
      },
      "source": [
        "#Unit Tests"
      ]
    },
    {
      "cell_type": "code",
      "metadata": {
        "id": "3YlzHIuB9O-e"
      },
      "source": [
        "import unittest\n"
      ],
      "execution_count": 19,
      "outputs": []
    },
    {
      "cell_type": "code",
      "metadata": {
        "colab": {
          "base_uri": "https://localhost:8080/"
        },
        "id": "8bXCbLxr9Oyo",
        "outputId": "9b32a2a1-e419-4df6-faac-db658aadb61a"
      },
      "source": [
        "class test_notebook(unittest.TestCase):\n",
        "\n",
        "  def test_read_file(self):\n",
        "    fn_input = \"tweet.txt\"\n",
        "    self.assertRaises(ValueError, read_files, fn_input)\n",
        "  \n",
        "  def test_read_tweet_lines(self):\n",
        "    fn_input = \"user.txt\"\n",
        "    self.assertRaises(ValueError, read_tweet_lines, fn_input)\n",
        "\n",
        "  def test_read_user_lines(self):\n",
        "    fn_input = \"tweet.txt\"\n",
        "    self.assertRaises(ValueError, read_user_lines, fn_input)\n",
        "\n",
        "  def test_all_users(self):\n",
        "    fn_input1 = \"name1 follows name2\"\n",
        "    fn_exp_output1 = [\"name1\", \"name2\"]\n",
        "    fn_input2 = \"name1 follows name2, name3, name4\"\n",
        "    fn_exp_output2 = [\"name1\", \"name2\", \"name3\", \"name4\"]\n",
        "\n",
        "    self.assertEqual(all_users(fn_input1), fn_exp_output1)\n",
        "    self.assertEqual(all_users(fn_input2), fn_exp_output2)\n",
        "    \n",
        "  def test_follows_dic(self):\n",
        "    fn_input1 = ['Ward follows Alan\\n', 'Alan follows Martin\\n']\n",
        "    fn_input2 = ['Alan', 'Martin', 'Ward']\n",
        "    fn_exp_output = {'Alan': 'Martin', 'Martin': '', 'Ward': 'Alan'}\n",
        "    self.assertEqual(follows_dic(fn_input1, fn_input2), fn_exp_output)\n",
        "    self.assertRaises(TypeError, follows_dic, {}, {})\n",
        "        \n",
        "unittest.main(argv=[''], verbosity=2, exit=False)"
      ],
      "execution_count": 18,
      "outputs": [
        {
          "output_type": "stream",
          "text": [
            "test_all_users (__main__.test_notebook) ... ok\n",
            "test_follows_dic (__main__.test_notebook) ... ok\n",
            "test_read_file (__main__.test_notebook) ... ok\n",
            "test_read_tweet_lines (__main__.test_notebook) ... ok\n",
            "test_read_user_lines (__main__.test_notebook) ... ok\n",
            "\n",
            "----------------------------------------------------------------------\n",
            "Ran 5 tests in 0.023s\n",
            "\n",
            "OK\n"
          ],
          "name": "stderr"
        },
        {
          "output_type": "execute_result",
          "data": {
            "text/plain": [
              "<unittest.main.TestProgram at 0x7f88fae1ee50>"
            ]
          },
          "metadata": {
            "tags": []
          },
          "execution_count": 18
        }
      ]
    },
    {
      "cell_type": "code",
      "metadata": {
        "id": "jpcgFQJ29ONT"
      },
      "source": [
        ""
      ],
      "execution_count": null,
      "outputs": []
    },
    {
      "cell_type": "code",
      "metadata": {
        "id": "kYKs1H361X62"
      },
      "source": [
        ""
      ],
      "execution_count": null,
      "outputs": []
    }
  ]
}